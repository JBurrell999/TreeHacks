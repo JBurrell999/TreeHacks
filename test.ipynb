{
 "cells": [
  {
   "cell_type": "code",
   "execution_count": 83,
   "metadata": {},
   "outputs": [],
   "source": [
    "import base64\n",
    "from openai import OpenAI\n",
    "from crewai_tools import BaseTool\n",
    "import cv2\n",
    "from tqdm import tqdm"
   ]
  },
  {
   "cell_type": "code",
   "execution_count": null,
   "metadata": {},
   "outputs": [],
   "source": [
    "def solve(question, vid_path):\n",
    "    # Stuff\n",
    "    client = OpenAI(api_key=\"<OpenAI API Key>\")\n",
    "\n",
    "    # Function to encode the image\n",
    "    def encode_image(image_path):\n",
    "        with open(image_path, \"rb\") as image_file:\n",
    "            return base64.b64encode(image_file.read()).decode(\"utf-8\")\n",
    "        \n",
    "    # Extract frame\n",
    "    class FrameExtractTool(BaseTool):\n",
    "        name: str = \"Frame Extraction Tool\"\n",
    "        description: str = (\n",
    "            \"This tool extracts a specific frame from a given video file based on the frame ID \"\n",
    "            \"and returns the frame as a base64-encoded image. This can be useful for extracting \"\n",
    "            \"individual frames from a video for further analysis, display, or processing.\"\n",
    "        )\n",
    "\n",
    "        def _run(self, frame_id: int, video_path: str) -> str:\n",
    "            \"\"\"\n",
    "            Extracts a specific frame from the video and returns the frame as a base64-encoded image.\n",
    "\n",
    "            Args:\n",
    "                frame_id (int): The index of the frame to be extracted.\n",
    "                video_path (str): The path to the video file.\n",
    "\n",
    "            Returns:\n",
    "                str: A base64-encoded string representing the extracted frame.\n",
    "            \"\"\"\n",
    "            # Open the video file\n",
    "            cap = cv2.VideoCapture(video_path)\n",
    "            \n",
    "            # Check if the video opened successfully\n",
    "            if not cap.isOpened():\n",
    "                raise ValueError(f\"Error opening video file at {video_path}.\")\n",
    "            \n",
    "            # Set the video capture position to the frame ID\n",
    "            cap.set(cv2.CAP_PROP_POS_FRAMES, frame_id)\n",
    "            \n",
    "            # Read the frame\n",
    "            ret, frame = cap.read()\n",
    "            \n",
    "            if not ret:\n",
    "                raise ValueError(f\"Could not read frame {frame_id}.\")\n",
    "            \n",
    "            # Release the video capture object\n",
    "            cap.release()\n",
    "            # plt.imshow(frame)\n",
    "            # Convert the frame (BGR format) to JPEG and encode it as base64\n",
    "            _, buffer = cv2.imencode('.jpg', frame)  # Convert to JPEG format\n",
    "            base64_image = base64.b64encode(buffer).decode('utf-8')  # Convert to base64 string\n",
    "            \n",
    "            return base64_image\n",
    "        \n",
    "    fet=FrameExtractTool()\n",
    "\n",
    "    # # Path to your image\n",
    "    # vid_path = \"D:/tree/tesla/tesla-real-world-video-q-a/videos/videos/00001.mp4\"\n",
    "    # question = \"Was ego doing a legal maneuver if its goal is to turn right at the intersection? A. It's legal as the lane is empty. B. It's illegal as the right turn lane is bloacked by construction. C. It's illegal as ego was cutting in other vehicles that were waiting. D. It's legal but the lane ahead is way too narrow for ego to pass.\"\n",
    "    # # Getting the Base64 string\n",
    "\n",
    "    # Create frame array\n",
    "    frame_array = [fet._run(i, vid_path) for i in range(0, 180, 18)]\n",
    "    # Get response\n",
    "    def getResponse(base64_image):\n",
    "        response = client.chat.completions.create(\n",
    "            model=\"gpt-4o-mini\",\n",
    "            messages=[\n",
    "                {\n",
    "                    \"role\": \"user\",\n",
    "                    \"content\": [\n",
    "                        {\n",
    "                            \"type\": \"text\",\n",
    "                            # \"text\": \"Get information from the image that answers this question. Describe the details which you looked at. Question - {question}\",\n",
    "                            \"text\": \"Describe this image and give details which may help answer this question. If there are no details that may help, return a single period as output. Question - {question}\",\n",
    "                        },\n",
    "                        {\n",
    "                            \"type\": \"image_url\",\n",
    "                            \"image_url\": {\"url\": f\"data:image/jpeg;base64,{base64_image}\",\"detail\":\"high\"},\n",
    "                            \n",
    "                        },\n",
    "                    ],\n",
    "                }\n",
    "            ],\n",
    "            max_tokens=200,\n",
    "        )\n",
    "\n",
    "        return response.choices[0].message.content\n",
    "    # Generate all responses\n",
    "    print('Begin generating responses')\n",
    "    responses = []\n",
    "    for el in tqdm(frame_array):\n",
    "        responses.append(getResponse(el))\n",
    "    # Final response    \n",
    "    finalresponse = ''\n",
    "    for el in responses:\n",
    "        finalresponse += el\n",
    "        finalresponse += '\\n'\n",
    "        \n",
    "    completion = client.chat.completions.create(\n",
    "        model=\"gpt-4o-mini\",\n",
    "        messages=[\n",
    "            {\"role\": \"developer\", \"content\": \"You are a helpful assistant.\"},\n",
    "            {\n",
    "                \"role\": \"user\",\n",
    "                \"content\": f\"Answer this multiple choice question (with only the correct option as output ex. A or B or C) - {question} based on the text information - {finalresponse}\",\n",
    "            }\n",
    "        ]\n",
    "    )\n",
    "\n",
    "    return completion.choices[0].message.content, responses"
   ]
  },
  {
   "cell_type": "code",
   "execution_count": 91,
   "metadata": {},
   "outputs": [],
   "source": [
    "# vid_path = \"D:/tree/tesla/tesla-real-world-video-q-a/videos/videos/00001.mp4\"\n",
    "# question = \"Was ego doing a legal maneuver if its goal is to turn right at the intersection? A. It's legal as the lane is empty. B. It's illegal as the right turn lane is bloacked by construction. C. It's illegal as ego was cutting in other vehicles that were waiting. D. It's legal but the lane ahead is way too narrow for ego to pass.\"\n",
    "vid_path = \"D:/tree/tesla/tesla-real-world-video-q-a/videos/videos/00002.mp4\"\n",
    "question = \"Where can ego legally park on this street? A. No parking anywhere. B. next to right curb. C. anywhere. D. next to left curb.\""
   ]
  },
  {
   "cell_type": "code",
   "execution_count": 92,
   "metadata": {},
   "outputs": [
    {
     "name": "stdout",
     "output_type": "stream",
     "text": [
      "Begin generating responses\n"
     ]
    },
    {
     "name": "stderr",
     "output_type": "stream",
     "text": [
      "100%|██████████| 10/10 [02:40<00:00, 16.07s/it]\n"
     ]
    }
   ],
   "source": [
    "ans, vals = solve(question, vid_path)"
   ]
  },
  {
   "cell_type": "code",
   "execution_count": 1,
   "metadata": {},
   "outputs": [
    {
     "ename": "NameError",
     "evalue": "name 'ans' is not defined",
     "output_type": "error",
     "traceback": [
      "\u001b[1;31m---------------------------------------------------------------------------\u001b[0m",
      "\u001b[1;31mNameError\u001b[0m                                 Traceback (most recent call last)",
      "Cell \u001b[1;32mIn[1], line 1\u001b[0m\n\u001b[1;32m----> 1\u001b[0m \u001b[43mans\u001b[49m\n",
      "\u001b[1;31mNameError\u001b[0m: name 'ans' is not defined"
     ]
    }
   ],
   "source": [
    "ans"
   ]
  }
 ],
 "metadata": {
  "kernelspec": {
   "display_name": "Python 3",
   "language": "python",
   "name": "python3"
  },
  "language_info": {
   "codemirror_mode": {
    "name": "ipython",
    "version": 3
   },
   "file_extension": ".py",
   "mimetype": "text/x-python",
   "name": "python",
   "nbconvert_exporter": "python",
   "pygments_lexer": "ipython3",
   "version": "3.11.5"
  }
 },
 "nbformat": 4,
 "nbformat_minor": 2
}
